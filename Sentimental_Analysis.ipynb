{
  "nbformat": 4,
  "nbformat_minor": 0,
  "metadata": {
    "colab": {
      "provenance": []
    },
    "kernelspec": {
      "name": "python3",
      "display_name": "Python 3"
    },
    "language_info": {
      "name": "python"
    }
  },
  "cells": [
    {
      "cell_type": "code",
      "execution_count": 7,
      "metadata": {
        "id": "lvrGVlczaIy5"
      },
      "outputs": [],
      "source": [
        "# Import necessary libraries\n",
        "import pandas as pd\n",
        "import nltk\n",
        "from nltk.sentiment.vader import SentimentIntensityAnalyzer"
      ]
    },
    {
      "cell_type": "code",
      "source": [
        "import nltk\n",
        "nltk.download('vader_lexicon')"
      ],
      "metadata": {
        "colab": {
          "base_uri": "https://localhost:8080/"
        },
        "id": "4B9Uo4Elijx0",
        "outputId": "04d3f39c-052e-429e-cfc8-5b26cab0c04a"
      },
      "execution_count": 9,
      "outputs": [
        {
          "output_type": "stream",
          "name": "stderr",
          "text": [
            "[nltk_data] Downloading package vader_lexicon to /root/nltk_data...\n"
          ]
        },
        {
          "output_type": "execute_result",
          "data": {
            "text/plain": [
              "True"
            ]
          },
          "metadata": {},
          "execution_count": 9
        }
      ]
    },
    {
      "cell_type": "code",
      "source": [
        "\n",
        "df = pd.read_csv('o2_reviews.csv')\n",
        "df.head()"
      ],
      "metadata": {
        "id": "Fs5rPKg_aN78",
        "colab": {
          "base_uri": "https://localhost:8080/",
          "height": 206
        },
        "outputId": "6e3db84d-9d98-487b-b724-5b3d72c70413"
      },
      "execution_count": 6,
      "outputs": [
        {
          "output_type": "execute_result",
          "data": {
            "text/plain": [
              "  Reviewer's Name                              Review Title  \\\n",
              "0   Ciprian Topor                      DO Not buy from them   \n",
              "1   Jackie Holmes  You have cut me off 3 times even though…   \n",
              "2              JM               Absolutely terrible company   \n",
              "3        Astorrev             Customer Service Non Existent   \n",
              "4   Robert Taylor                        Awful Data Service   \n",
              "\n",
              "                                      Review Content  \n",
              "0  terible customer service, terible technical su...  \n",
              "1  You have cut me off 3 times even though I’ve p...  \n",
              "2  Absolutely terrible company. Signal is shockin...  \n",
              "3  After dealing with O2 customer service trying ...  \n",
              "4  Unfortunately I’m too late to terminate my con...  "
            ],
            "text/html": [
              "\n",
              "  <div id=\"df-cd7bad76-b0c0-4ff2-b76c-6326cf2235b0\">\n",
              "    <div class=\"colab-df-container\">\n",
              "      <div>\n",
              "<style scoped>\n",
              "    .dataframe tbody tr th:only-of-type {\n",
              "        vertical-align: middle;\n",
              "    }\n",
              "\n",
              "    .dataframe tbody tr th {\n",
              "        vertical-align: top;\n",
              "    }\n",
              "\n",
              "    .dataframe thead th {\n",
              "        text-align: right;\n",
              "    }\n",
              "</style>\n",
              "<table border=\"1\" class=\"dataframe\">\n",
              "  <thead>\n",
              "    <tr style=\"text-align: right;\">\n",
              "      <th></th>\n",
              "      <th>Reviewer's Name</th>\n",
              "      <th>Review Title</th>\n",
              "      <th>Review Content</th>\n",
              "    </tr>\n",
              "  </thead>\n",
              "  <tbody>\n",
              "    <tr>\n",
              "      <th>0</th>\n",
              "      <td>Ciprian Topor</td>\n",
              "      <td>DO Not buy from them</td>\n",
              "      <td>terible customer service, terible technical su...</td>\n",
              "    </tr>\n",
              "    <tr>\n",
              "      <th>1</th>\n",
              "      <td>Jackie Holmes</td>\n",
              "      <td>You have cut me off 3 times even though…</td>\n",
              "      <td>You have cut me off 3 times even though I’ve p...</td>\n",
              "    </tr>\n",
              "    <tr>\n",
              "      <th>2</th>\n",
              "      <td>JM</td>\n",
              "      <td>Absolutely terrible company</td>\n",
              "      <td>Absolutely terrible company. Signal is shockin...</td>\n",
              "    </tr>\n",
              "    <tr>\n",
              "      <th>3</th>\n",
              "      <td>Astorrev</td>\n",
              "      <td>Customer Service Non Existent</td>\n",
              "      <td>After dealing with O2 customer service trying ...</td>\n",
              "    </tr>\n",
              "    <tr>\n",
              "      <th>4</th>\n",
              "      <td>Robert Taylor</td>\n",
              "      <td>Awful Data Service</td>\n",
              "      <td>Unfortunately I’m too late to terminate my con...</td>\n",
              "    </tr>\n",
              "  </tbody>\n",
              "</table>\n",
              "</div>\n",
              "      <button class=\"colab-df-convert\" onclick=\"convertToInteractive('df-cd7bad76-b0c0-4ff2-b76c-6326cf2235b0')\"\n",
              "              title=\"Convert this dataframe to an interactive table.\"\n",
              "              style=\"display:none;\">\n",
              "        \n",
              "  <svg xmlns=\"http://www.w3.org/2000/svg\" height=\"24px\"viewBox=\"0 0 24 24\"\n",
              "       width=\"24px\">\n",
              "    <path d=\"M0 0h24v24H0V0z\" fill=\"none\"/>\n",
              "    <path d=\"M18.56 5.44l.94 2.06.94-2.06 2.06-.94-2.06-.94-.94-2.06-.94 2.06-2.06.94zm-11 1L8.5 8.5l.94-2.06 2.06-.94-2.06-.94L8.5 2.5l-.94 2.06-2.06.94zm10 10l.94 2.06.94-2.06 2.06-.94-2.06-.94-.94-2.06-.94 2.06-2.06.94z\"/><path d=\"M17.41 7.96l-1.37-1.37c-.4-.4-.92-.59-1.43-.59-.52 0-1.04.2-1.43.59L10.3 9.45l-7.72 7.72c-.78.78-.78 2.05 0 2.83L4 21.41c.39.39.9.59 1.41.59.51 0 1.02-.2 1.41-.59l7.78-7.78 2.81-2.81c.8-.78.8-2.07 0-2.86zM5.41 20L4 18.59l7.72-7.72 1.47 1.35L5.41 20z\"/>\n",
              "  </svg>\n",
              "      </button>\n",
              "      \n",
              "  <style>\n",
              "    .colab-df-container {\n",
              "      display:flex;\n",
              "      flex-wrap:wrap;\n",
              "      gap: 12px;\n",
              "    }\n",
              "\n",
              "    .colab-df-convert {\n",
              "      background-color: #E8F0FE;\n",
              "      border: none;\n",
              "      border-radius: 50%;\n",
              "      cursor: pointer;\n",
              "      display: none;\n",
              "      fill: #1967D2;\n",
              "      height: 32px;\n",
              "      padding: 0 0 0 0;\n",
              "      width: 32px;\n",
              "    }\n",
              "\n",
              "    .colab-df-convert:hover {\n",
              "      background-color: #E2EBFA;\n",
              "      box-shadow: 0px 1px 2px rgba(60, 64, 67, 0.3), 0px 1px 3px 1px rgba(60, 64, 67, 0.15);\n",
              "      fill: #174EA6;\n",
              "    }\n",
              "\n",
              "    [theme=dark] .colab-df-convert {\n",
              "      background-color: #3B4455;\n",
              "      fill: #D2E3FC;\n",
              "    }\n",
              "\n",
              "    [theme=dark] .colab-df-convert:hover {\n",
              "      background-color: #434B5C;\n",
              "      box-shadow: 0px 1px 3px 1px rgba(0, 0, 0, 0.15);\n",
              "      filter: drop-shadow(0px 1px 2px rgba(0, 0, 0, 0.3));\n",
              "      fill: #FFFFFF;\n",
              "    }\n",
              "  </style>\n",
              "\n",
              "      <script>\n",
              "        const buttonEl =\n",
              "          document.querySelector('#df-cd7bad76-b0c0-4ff2-b76c-6326cf2235b0 button.colab-df-convert');\n",
              "        buttonEl.style.display =\n",
              "          google.colab.kernel.accessAllowed ? 'block' : 'none';\n",
              "\n",
              "        async function convertToInteractive(key) {\n",
              "          const element = document.querySelector('#df-cd7bad76-b0c0-4ff2-b76c-6326cf2235b0');\n",
              "          const dataTable =\n",
              "            await google.colab.kernel.invokeFunction('convertToInteractive',\n",
              "                                                     [key], {});\n",
              "          if (!dataTable) return;\n",
              "\n",
              "          const docLinkHtml = 'Like what you see? Visit the ' +\n",
              "            '<a target=\"_blank\" href=https://colab.research.google.com/notebooks/data_table.ipynb>data table notebook</a>'\n",
              "            + ' to learn more about interactive tables.';\n",
              "          element.innerHTML = '';\n",
              "          dataTable['output_type'] = 'display_data';\n",
              "          await google.colab.output.renderOutput(dataTable, element);\n",
              "          const docLink = document.createElement('div');\n",
              "          docLink.innerHTML = docLinkHtml;\n",
              "          element.appendChild(docLink);\n",
              "        }\n",
              "      </script>\n",
              "    </div>\n",
              "  </div>\n",
              "  "
            ]
          },
          "metadata": {},
          "execution_count": 6
        }
      ]
    },
    {
      "cell_type": "code",
      "source": [
        "\n",
        "# Initialize the sentiment analyzer\n",
        "sia = SentimentIntensityAnalyzer()\n",
        "\n",
        "# Define a function to get the sentiment score for each review\n",
        "def get_sentiment_score(review):\n",
        "    sentiment = sia.polarity_scores(review)\n",
        "    return sentiment['compound']\n",
        "\n",
        "# Apply the sentiment analysis function to the 'Review Content' column\n",
        "df['Sentiment Score'] = df['Review Content'].apply(get_sentiment_score)\n",
        "\n",
        "# Define a function to get the sentiment category based on the sentiment score\n",
        "def get_sentiment_category(score):\n",
        "    if score > 0.05:\n",
        "        return 'Positive'\n",
        "    elif score < -0.05:\n",
        "        return 'Negative'\n",
        "    else:\n",
        "        return 'Neutral'\n",
        "\n",
        "# Apply the sentiment category function to the 'Sentiment Score' column\n",
        "df['Sentiment Category'] = df['Sentiment Score'].apply(get_sentiment_category)\n",
        "\n",
        "# Print the first 10 rows of the dataset with the sentiment scores and categories\n",
        "print(df.head(10))\n"
      ],
      "metadata": {
        "colab": {
          "base_uri": "https://localhost:8080/"
        },
        "id": "urOxL8Cjh9KH",
        "outputId": "4adafe14-2f46-46e6-c94d-5332d3a4ecac"
      },
      "execution_count": 12,
      "outputs": [
        {
          "output_type": "stream",
          "name": "stdout",
          "text": [
            "  Reviewer's Name                              Review Title  \\\n",
            "0   Ciprian Topor                      DO Not buy from them   \n",
            "1   Jackie Holmes  You have cut me off 3 times even though…   \n",
            "2              JM               Absolutely terrible company   \n",
            "3        Astorrev             Customer Service Non Existent   \n",
            "4   Robert Taylor                        Awful Data Service   \n",
            "5           Ivana    How difficult is to give customer PAC…   \n",
            "6       MARY PAUL     A word of appreciation and Thank  you   \n",
            "7         Biggy B   Absolutely disgusting customer services   \n",
            "8            Katy     Worst phone provider ever. GO WITH EE   \n",
            "9              Jo              Worst customer service ever!   \n",
            "\n",
            "                                      Review Content  Sentiment Score  \\\n",
            "0  terible customer service, terible technical su...           0.5423   \n",
            "1  You have cut me off 3 times even though I’ve p...          -0.0460   \n",
            "2  Absolutely terrible company. Signal is shockin...          -0.8218   \n",
            "3  After dealing with O2 customer service trying ...          -0.4404   \n",
            "4  Unfortunately I’m too late to terminate my con...           0.8669   \n",
            "5  How difficult is to give customer PAC code??? ...          -0.8154   \n",
            "6  I would like to review  about  a girl Jyothi w...           0.9882   \n",
            "7  No reception at all zero bars.Just an big fat ...          -0.8619   \n",
            "8  Worst phone provider ever. Switched back to ee...          -0.9860   \n",
            "9  Worst customer service ever!Just switched over...          -0.7405   \n",
            "\n",
            "  Sentiment Category  \n",
            "0           Positive  \n",
            "1            Neutral  \n",
            "2           Negative  \n",
            "3           Negative  \n",
            "4           Positive  \n",
            "5           Negative  \n",
            "6           Positive  \n",
            "7           Negative  \n",
            "8           Negative  \n",
            "9           Negative  \n"
          ]
        }
      ]
    },
    {
      "cell_type": "code",
      "source": [],
      "metadata": {
        "id": "-zvwR22Dh9HU"
      },
      "execution_count": null,
      "outputs": []
    },
    {
      "cell_type": "code",
      "source": [],
      "metadata": {
        "id": "DzbNmKlRh9Dy"
      },
      "execution_count": null,
      "outputs": []
    },
    {
      "cell_type": "code",
      "source": [],
      "metadata": {
        "id": "PGcu8HN3jJ3T"
      },
      "execution_count": null,
      "outputs": []
    },
    {
      "cell_type": "code",
      "source": [],
      "metadata": {
        "id": "VarlAarujJ0R"
      },
      "execution_count": null,
      "outputs": []
    },
    {
      "cell_type": "code",
      "source": [],
      "metadata": {
        "id": "WB74vWYFjJx_"
      },
      "execution_count": null,
      "outputs": []
    },
    {
      "cell_type": "code",
      "source": [],
      "metadata": {
        "id": "bIj4oa7njJvG"
      },
      "execution_count": null,
      "outputs": []
    }
  ]
}